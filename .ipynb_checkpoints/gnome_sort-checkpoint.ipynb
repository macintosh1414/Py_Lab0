{
 "cells": [
  {
   "cell_type": "code",
   "execution_count": 2,
   "id": "715e4e4e-975d-4a10-8328-71ff91547a92",
   "metadata": {},
   "outputs": [
    {
     "name": "stdout",
     "output_type": "stream",
     "text": [
      "Відсортований список: [78, 34, 23, 7, 5, 3, 3]\n",
      "Кількість перестановок: 13\n",
      "Відсортований список: [56, 45, 34, 23, 12, 11, 9]\n",
      "Кількість перестановок: 7\n"
     ]
    }
   ],
   "source": [
    "def gnome_sort_desc(arr):\n",
    "    \"\"\"\n",
    "    Реалізуємо алгоритм гном'ячого сортування для списку у порядку спадання.\n",
    "    \"\"\"\n",
    "    i = 0\n",
    "    swaps = 0\n",
    "    while i < len(arr):\n",
    "        if i == 0 or arr[i] <= arr[i - 1]:\n",
    "            i += 1\n",
    "        else:\n",
    "            arr[i], arr[i - 1] = arr[i - 1], arr[i]\n",
    "            swaps += 1\n",
    "            i -= 1\n",
    "    return arr, swaps\n",
    "\n",
    "# Приклад 1\n",
    "input_data = [5, 3, 78, 3, 23, 7, 34]\n",
    "sorted_data, swaps = gnome_sort_desc(input_data)\n",
    "print(f\"Відсортований список: {sorted_data}\")\n",
    "print(f\"Кількість перестановок: {swaps}\")\n",
    "\n",
    "# Приклад 2\n",
    "input_data_2 = [12, 45, 23, 56, 34, 11, 9]\n",
    "sorted_data_2, swaps_2 = gnome_sort_desc(input_data_2)\n",
    "print(f\"Відсортований список: {sorted_data_2}\")\n",
    "print(f\"Кількість перестановок: {swaps_2}\")\n"
   ]
  }
 ],
 "metadata": {
  "kernelspec": {
   "display_name": "Python 3 (ipykernel)",
   "language": "python",
   "name": "python3"
  },
  "language_info": {
   "codemirror_mode": {
    "name": "ipython",
    "version": 3
   },
   "file_extension": ".py",
   "mimetype": "text/x-python",
   "name": "python",
   "nbconvert_exporter": "python",
   "pygments_lexer": "ipython3",
   "version": "3.12.7"
  }
 },
 "nbformat": 4,
 "nbformat_minor": 5
}
