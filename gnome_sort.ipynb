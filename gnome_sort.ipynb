{
 "cells": [
  {
   "cell_type": "code",
   "execution_count": 78,
   "id": "715e4e4e-975d-4a10-8328-71ff91547a92",
   "metadata": {},
   "outputs": [
    {
     "name": "stdout",
     "output_type": "stream",
     "text": [
      "Відсортований список: [78, 34, 23, 7, 5, 3, 3]\n",
      "Кількість перестановок: 13\n",
      "Відсортований список: [56, 45, 34, 23, 12, 11, 9]\n",
      "Кількість перестановок: 7\n",
      "SVG-файл з прапором Грузії створено: georgia_flag.svg\n"
     ]
    }
   ],
   "source": [
    "def gnome_sort_desc(arr):\n",
    "    \"\"\"\n",
    "    Реалізуємо алгоритм гном'ячого сортування для списку у порядку спадання.\n",
    "    \"\"\"\n",
    "    i = 0\n",
    "    swaps = 0\n",
    "    while i < len(arr):\n",
    "        if i == 0 or arr[i] <= arr[i - 1]:\n",
    "            i += 1\n",
    "        else:\n",
    "            arr[i], arr[i - 1] = arr[i - 1], arr[i]\n",
    "            swaps += 1\n",
    "            i -= 1\n",
    "    return arr, swaps\n",
    "\n",
    "def generate_svg_flag(file_path):\n",
    "    \n",
    "    svg_content = '''<svg xmlns=\"http://www.w3.org/2000/svg\" width=\"300\" height=\"200\">\n",
    "        <rect width=\"300\" height=\"200\" fill=\"white\" />\n",
    "        <rect x=\"0\" y=\"80\" width=\"300\" height=\"40\" fill=\"red\" />\n",
    "        <rect x=\"130\" y=\"0\" width=\"40\" height=\"200\" fill=\"red\" />\n",
    "               \n",
    "        <rect x=\"60\" y=\"20\" width=\"60\" height=\"20\" fill=\"red\" />  <!-- горизонтальная часть -->\n",
    "        <rect x=\"80\" y=\"0\" width=\"20\" height=\"60\" fill=\"red\" />  <!-- вертикальная часть -->\n",
    "              \n",
    "        <rect x=\"200\" y=\"20\" width=\"60\" height=\"20\" fill=\"red\" />  <!-- горизонтальная часть -->\n",
    "        <rect x=\"220\" y=\"0\" width=\"20\" height=\"60\" fill=\"red\" />  <!-- вертикальная часть -->\n",
    "               \n",
    "        <rect x=\"60\" y=\"140\" width=\"60\" height=\"20\" fill=\"red\" />  <!-- горизонтальная часть -->\n",
    "        <rect x=\"80\" y=\"120\" width=\"20\" height=\"60\" fill=\"red\" />  <!-- вертикальная часть -->\n",
    "        \n",
    "        <rect x=\"200\" y=\"140\" width=\"60\" height=\"20\" fill=\"red\" />  <!-- горизонтальная часть -->\n",
    "        <rect x=\"220\" y=\"120\" width=\"20\" height=\"60\" fill=\"red\" />  <!-- вертикальная часть -->\n",
    "    </svg>'''\n",
    "    \n",
    "    # Запись с указанием кодировки UTF-8\n",
    "    with open(file_path, 'w', encoding='utf-8') as file:\n",
    "        file.write(svg_content)\n",
    "\n",
    "\n",
    "\n",
    "\n",
    "\n",
    "\n",
    "\n",
    "# Приклад 1\n",
    "input_data = [5, 3, 78, 3, 23, 7, 34]\n",
    "sorted_data, swaps = gnome_sort_desc(input_data)\n",
    "print(f\"Відсортований список: {sorted_data}\")\n",
    "print(f\"Кількість перестановок: {swaps}\")\n",
    "\n",
    "# Приклад 2\n",
    "input_data_2 = [12, 45, 23, 56, 34, 11, 9]\n",
    "sorted_data_2, swaps_2 = gnome_sort_desc(input_data_2)\n",
    "print(f\"Відсортований список: {sorted_data_2}\")\n",
    "print(f\"Кількість перестановок: {swaps_2}\")\n",
    "\n",
    "# Генерація SVG-файлу прапора Грузії\n",
    "generate_svg_flag(\"georgia_flag.svg\")\n",
    "print(\"SVG-файл з прапором Грузії створено: georgia_flag.svg\")\n"
   ]
  },
  {
   "cell_type": "code",
   "execution_count": null,
   "id": "55884764-e783-43ae-917c-6e1db3888387",
   "metadata": {},
   "outputs": [],
   "source": []
  },
  {
   "cell_type": "code",
   "execution_count": null,
   "id": "71d2f6b4-8e7d-4061-b5dd-7a65f492f5ce",
   "metadata": {},
   "outputs": [],
   "source": []
  }
 ],
 "metadata": {
  "kernelspec": {
   "display_name": "Python 3 (ipykernel)",
   "language": "python",
   "name": "python3"
  },
  "language_info": {
   "codemirror_mode": {
    "name": "ipython",
    "version": 3
   },
   "file_extension": ".py",
   "mimetype": "text/x-python",
   "name": "python",
   "nbconvert_exporter": "python",
   "pygments_lexer": "ipython3",
   "version": "3.12.7"
  }
 },
 "nbformat": 4,
 "nbformat_minor": 5
}
